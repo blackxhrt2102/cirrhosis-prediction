{
  "nbformat": 4,
  "nbformat_minor": 0,
  "metadata": {
    "colab": {
      "name": "Cirrhosis Prediction.ipynb",
      "provenance": [],
      "authorship_tag": "ABX9TyPthYm1RyDyKkKTq1fbeW2U",
      "include_colab_link": true
    },
    "kernelspec": {
      "name": "python3",
      "display_name": "Python 3"
    },
    "language_info": {
      "name": "python"
    }
  },
  "cells": [
    {
      "cell_type": "markdown",
      "metadata": {
        "id": "view-in-github",
        "colab_type": "text"
      },
      "source": [
        "<a href=\"https://colab.research.google.com/github/blackxhrt2102/cirrhosis-prediction/blob/main/Cirrhosis_Prediction.ipynb\" target=\"_parent\"><img src=\"https://colab.research.google.com/assets/colab-badge.svg\" alt=\"Open In Colab\"/></a>"
      ]
    },
    {
      "cell_type": "code",
      "execution_count": 326,
      "metadata": {
        "colab": {
          "base_uri": "https://localhost:8080/"
        },
        "id": "SK3tek35cx7p",
        "outputId": "192d8727-41f1-49c5-8c7b-bbcca74d8d64"
      },
      "outputs": [
        {
          "output_type": "stream",
          "name": "stdout",
          "text": [
            "cirrhosis-prediction-dataset.zip: Skipping, found more recently modified local copy (use --force to force download)\n"
          ]
        }
      ],
      "source": [
        "!pip install -q kaggle\n",
        "\n",
        "!mkdir -p ~/.kaggle\n",
        "!cp kaggle.json ~/.kaggle/\n",
        "\n",
        "!chmod 600 /root/.kaggle/kaggle.json\n",
        "\n",
        "!kaggle datasets download -d fedesoriano/cirrhosis-prediction-dataset"
      ]
    },
    {
      "cell_type": "code",
      "source": [
        "import os,zipfile\n",
        "\n",
        "data=zipfile.ZipFile('/content/cirrhosis-prediction-dataset.zip')\n",
        "data.extractall('/content')"
      ],
      "metadata": {
        "id": "-lkAYfv6c5xM"
      },
      "execution_count": 327,
      "outputs": []
    },
    {
      "cell_type": "code",
      "source": [
        "import numpy as np\n",
        "import pandas as pd\n",
        "import matplotlib.pyplot as plt\n",
        "import seaborn as sns"
      ],
      "metadata": {
        "id": "CsLAoFppdK02"
      },
      "execution_count": 328,
      "outputs": []
    },
    {
      "cell_type": "code",
      "source": [
        "data=pd.read_csv('/content/cirrhosis.csv',index_col='ID')"
      ],
      "metadata": {
        "id": "m8rW-r-bdSr2"
      },
      "execution_count": 329,
      "outputs": []
    },
    {
      "cell_type": "code",
      "source": [
        "# Shape of the dataset:-\n",
        "data.shape"
      ],
      "metadata": {
        "colab": {
          "base_uri": "https://localhost:8080/"
        },
        "id": "kViy5KSxceFq",
        "outputId": "2f528a3c-aa07-4940-bd96-8a35746a34d9"
      },
      "execution_count": 330,
      "outputs": [
        {
          "output_type": "execute_result",
          "data": {
            "text/plain": [
              "(418, 19)"
            ]
          },
          "metadata": {},
          "execution_count": 330
        }
      ]
    },
    {
      "cell_type": "code",
      "source": [
        "# First few rows in data\n",
        "\n",
        "#data.head(4)\n",
        "y=data['Status']\n",
        "y=y.replace({'C':1,'D':2,'CL':3})"
      ],
      "metadata": {
        "id": "sMtUxIdqcemm"
      },
      "execution_count": 331,
      "outputs": []
    },
    {
      "cell_type": "code",
      "source": [
        "# Label Encoder\n",
        "\n",
        "data['Drug']=data['Drug'].replace({'D-penicillamine':1,'Placebo':2})\n",
        "data['Sex']=data['Sex'].replace({'F':1,'M':0})\n",
        "data['Ascites']=data['Ascites'].replace({'Y':1,'N':0})\n",
        "data['Hepatomegaly']=data['Hepatomegaly'].replace({'Y':1,'N':0})\n",
        "data['Spiders']=data['Spiders'].replace({'Y':1,'N':0})\n",
        "data['Edema']=data['Edema'].replace({'N':0,'S':1,'Y':2})"
      ],
      "metadata": {
        "id": "R5-CCIzocsRQ"
      },
      "execution_count": 332,
      "outputs": []
    },
    {
      "cell_type": "code",
      "source": [
        "imbalance=['Age','Ascites','Spiders','Edema']"
      ],
      "metadata": {
        "id": "Jo_V18V2en1F"
      },
      "execution_count": 333,
      "outputs": []
    },
    {
      "cell_type": "code",
      "source": [
        "# Changing age to year:-\n",
        "a=data['Age']/365\n",
        "data['Age']=a.astype(int)"
      ],
      "metadata": {
        "id": "RiOygMpAcypA"
      },
      "execution_count": 334,
      "outputs": []
    },
    {
      "cell_type": "code",
      "source": [
        "reg=['Prothrombin','Platelets','Tryglicerides','SGOT','Alk_Phos','Copper','Bilirubin','Cholesterol','Age']\n",
        "\n",
        "#-----------------------------------------------------------------------------------------------\n",
        "from sklearn.preprocessing import StandardScaler\n",
        "\n",
        "scale=StandardScaler()\n",
        "data[reg]=pd.DataFrame(scale.fit_transform(data[reg]),columns=reg)\n",
        "#------------------------------------------------------------------------------------------------\n",
        "\n",
        "from sklearn.preprocessing import PowerTransformer\n",
        "\n",
        "power=PowerTransformer(method='yeo-johnson')\n",
        "data[reg]=pd.DataFrame(power.fit_transform(data[reg]),columns=reg)"
      ],
      "metadata": {
        "id": "8YnEGwUGfwYr"
      },
      "execution_count": 335,
      "outputs": []
    },
    {
      "cell_type": "code",
      "source": [
        "# Dropping unnecessary columns:-\n",
        "\n",
        "data.drop(['N_Days'],axis=1,inplace=True)"
      ],
      "metadata": {
        "id": "5zFhxLK0d9iK"
      },
      "execution_count": 336,
      "outputs": []
    },
    {
      "cell_type": "code",
      "source": [
        "# Imputer\n",
        "from sklearn.impute import SimpleImputer\n",
        "\n",
        "impute=SimpleImputer(strategy='most_frequent')\n",
        "col=['Drug','Ascites','Hepatomegaly','Spiders','Stage']\n",
        "\n",
        "data[col]=pd.DataFrame(impute.fit_transform(data[col]),columns=col)\n",
        "data[col]=data[col].dropna()"
      ],
      "metadata": {
        "id": "Mq0NLZb0ft_h"
      },
      "execution_count": 337,
      "outputs": []
    },
    {
      "cell_type": "code",
      "source": [
        "impute=SimpleImputer(strategy='median')\n",
        "\n",
        "\n",
        "data=pd.DataFrame(impute.fit_transform(data.drop('Status',axis=1)),columns=data.drop('Status',axis=1).columns)"
      ],
      "metadata": {
        "id": "i3wUaPXjhmaa"
      },
      "execution_count": 338,
      "outputs": []
    },
    {
      "cell_type": "code",
      "source": [
        "from sklearn.linear_model import LogisticRegression\n",
        "from sklearn.svm import SVC\n",
        "from sklearn.tree import DecisionTreeClassifier\n",
        "from sklearn.ensemble import RandomForestClassifier,GradientBoostingClassifier\n",
        "from xgboost import XGBClassifier\n",
        "\n",
        "from sklearn.model_selection import train_test_split"
      ],
      "metadata": {
        "id": "R-bTYLBhkMMi"
      },
      "execution_count": 339,
      "outputs": []
    },
    {
      "cell_type": "code",
      "source": [
        "from imblearn.over_sampling import SMOTE\n",
        "\n",
        "strategy = {0:100, 1:100, 2:200, 3:200, 4:200, 5:200}\n",
        "oversample = SMOTE(sampling_strategy=strategy)\n",
        "\n",
        "\n",
        "smote=SMOTE()\n",
        "data,y=smote.fit_resample(data,y)"
      ],
      "metadata": {
        "id": "ey9Uo9SGoT3W"
      },
      "execution_count": 340,
      "outputs": []
    },
    {
      "cell_type": "code",
      "source": [
        "data"
      ],
      "metadata": {
        "colab": {
          "base_uri": "https://localhost:8080/",
          "height": 487
        },
        "id": "7juMSOdjqrYW",
        "outputId": "541ca984-1aab-4e34-be76-c566a735b681"
      },
      "execution_count": 341,
      "outputs": [
        {
          "output_type": "execute_result",
          "data": {
            "text/plain": [
              "         Drug       Age       Sex   Ascites  Hepatomegaly  Spiders     Edema  \\\n",
              "0    1.000000  1.835784  1.000000  0.000000      1.000000      1.0  2.000000   \n",
              "1    1.000000  0.362789  1.000000  0.000000      0.000000      0.0  0.000000   \n",
              "2    1.000000 -1.189693  0.000000  0.000000      1.000000      1.0  1.000000   \n",
              "3    2.000000  1.472447  1.000000  0.000000      1.000000      1.0  1.000000   \n",
              "4    2.000000  0.456705  1.000000  0.000000      1.000000      0.0  0.000000   \n",
              "..        ...       ...       ...       ...           ...      ...       ...   \n",
              "691  1.035495  0.456705  1.000000  0.000000      1.000000      0.0  0.000000   \n",
              "692  1.229260  1.541075  0.770740  0.000000      0.000000      0.0  0.000000   \n",
              "693  2.000000 -0.411912  1.000000  0.000000      1.000000      1.0  0.993734   \n",
              "694  2.000000  0.052108  1.000000  0.000000      1.000000      0.0  0.000000   \n",
              "695  2.000000  0.605441  0.795797  0.204203      0.204203      0.0  0.000000   \n",
              "\n",
              "     Bilirubin  Cholesterol   Albumin    Copper  Alk_Phos      SGOT  \\\n",
              "0    -0.306313    -1.787409  2.600000  1.418520 -1.558859 -0.359849   \n",
              "1    -0.001318    -0.758421  4.140000 -0.213673  1.809725 -1.364951   \n",
              "2     0.825221    -0.330727  3.480000  0.955848 -1.205362  0.036734   \n",
              "3    -0.851949    -0.706153  2.540000 -0.559883 -0.657557 -0.438250   \n",
              "4    -0.657717     0.106489  3.530000 -0.507493 -0.886968 -1.370634   \n",
              "..         ...          ...       ...       ...       ...       ...   \n",
              "691  -0.845055     0.123918  3.761481 -0.853047 -0.193460 -1.185011   \n",
              "692   1.010685    -0.904760  3.344434  0.807585 -1.088436 -0.307434   \n",
              "693   0.850451     0.325728  3.571128  0.726014 -0.669996  0.173494   \n",
              "694  -0.775798    -0.325609  3.651588 -0.672764 -0.549759 -1.113239   \n",
              "695  -1.059142    -0.928775  3.494564 -1.600337 -1.648167 -0.968381   \n",
              "\n",
              "     Tryglicerides  Platelets  Prothrombin     Stage  \n",
              "0        -1.671241  -1.148184     1.303973  3.000000  \n",
              "1        -0.444401  -0.741066    -0.308892  4.000000  \n",
              "2        -1.061049  -1.346139     0.450350  4.000000  \n",
              "3        -1.374276   0.043712     0.549215  3.000000  \n",
              "4         1.404745  -0.486123    -1.363396  3.000000  \n",
              "..             ...        ...          ...       ...  \n",
              "691       0.703853   1.088263    -0.820632  3.000000  \n",
              "692      -0.472623  -0.534403     1.237784  3.229260  \n",
              "693       0.673620   0.487739    -0.804184  3.000000  \n",
              "694       0.314389  -0.573927    -0.547847  3.000000  \n",
              "695       0.037254  -0.181909     0.029785  3.204203  \n",
              "\n",
              "[696 rows x 17 columns]"
            ],
            "text/html": [
              "\n",
              "  <div id=\"df-7b571bfa-9ad4-4963-8401-de4f9785b3df\">\n",
              "    <div class=\"colab-df-container\">\n",
              "      <div>\n",
              "<style scoped>\n",
              "    .dataframe tbody tr th:only-of-type {\n",
              "        vertical-align: middle;\n",
              "    }\n",
              "\n",
              "    .dataframe tbody tr th {\n",
              "        vertical-align: top;\n",
              "    }\n",
              "\n",
              "    .dataframe thead th {\n",
              "        text-align: right;\n",
              "    }\n",
              "</style>\n",
              "<table border=\"1\" class=\"dataframe\">\n",
              "  <thead>\n",
              "    <tr style=\"text-align: right;\">\n",
              "      <th></th>\n",
              "      <th>Drug</th>\n",
              "      <th>Age</th>\n",
              "      <th>Sex</th>\n",
              "      <th>Ascites</th>\n",
              "      <th>Hepatomegaly</th>\n",
              "      <th>Spiders</th>\n",
              "      <th>Edema</th>\n",
              "      <th>Bilirubin</th>\n",
              "      <th>Cholesterol</th>\n",
              "      <th>Albumin</th>\n",
              "      <th>Copper</th>\n",
              "      <th>Alk_Phos</th>\n",
              "      <th>SGOT</th>\n",
              "      <th>Tryglicerides</th>\n",
              "      <th>Platelets</th>\n",
              "      <th>Prothrombin</th>\n",
              "      <th>Stage</th>\n",
              "    </tr>\n",
              "  </thead>\n",
              "  <tbody>\n",
              "    <tr>\n",
              "      <th>0</th>\n",
              "      <td>1.000000</td>\n",
              "      <td>1.835784</td>\n",
              "      <td>1.000000</td>\n",
              "      <td>0.000000</td>\n",
              "      <td>1.000000</td>\n",
              "      <td>1.0</td>\n",
              "      <td>2.000000</td>\n",
              "      <td>-0.306313</td>\n",
              "      <td>-1.787409</td>\n",
              "      <td>2.600000</td>\n",
              "      <td>1.418520</td>\n",
              "      <td>-1.558859</td>\n",
              "      <td>-0.359849</td>\n",
              "      <td>-1.671241</td>\n",
              "      <td>-1.148184</td>\n",
              "      <td>1.303973</td>\n",
              "      <td>3.000000</td>\n",
              "    </tr>\n",
              "    <tr>\n",
              "      <th>1</th>\n",
              "      <td>1.000000</td>\n",
              "      <td>0.362789</td>\n",
              "      <td>1.000000</td>\n",
              "      <td>0.000000</td>\n",
              "      <td>0.000000</td>\n",
              "      <td>0.0</td>\n",
              "      <td>0.000000</td>\n",
              "      <td>-0.001318</td>\n",
              "      <td>-0.758421</td>\n",
              "      <td>4.140000</td>\n",
              "      <td>-0.213673</td>\n",
              "      <td>1.809725</td>\n",
              "      <td>-1.364951</td>\n",
              "      <td>-0.444401</td>\n",
              "      <td>-0.741066</td>\n",
              "      <td>-0.308892</td>\n",
              "      <td>4.000000</td>\n",
              "    </tr>\n",
              "    <tr>\n",
              "      <th>2</th>\n",
              "      <td>1.000000</td>\n",
              "      <td>-1.189693</td>\n",
              "      <td>0.000000</td>\n",
              "      <td>0.000000</td>\n",
              "      <td>1.000000</td>\n",
              "      <td>1.0</td>\n",
              "      <td>1.000000</td>\n",
              "      <td>0.825221</td>\n",
              "      <td>-0.330727</td>\n",
              "      <td>3.480000</td>\n",
              "      <td>0.955848</td>\n",
              "      <td>-1.205362</td>\n",
              "      <td>0.036734</td>\n",
              "      <td>-1.061049</td>\n",
              "      <td>-1.346139</td>\n",
              "      <td>0.450350</td>\n",
              "      <td>4.000000</td>\n",
              "    </tr>\n",
              "    <tr>\n",
              "      <th>3</th>\n",
              "      <td>2.000000</td>\n",
              "      <td>1.472447</td>\n",
              "      <td>1.000000</td>\n",
              "      <td>0.000000</td>\n",
              "      <td>1.000000</td>\n",
              "      <td>1.0</td>\n",
              "      <td>1.000000</td>\n",
              "      <td>-0.851949</td>\n",
              "      <td>-0.706153</td>\n",
              "      <td>2.540000</td>\n",
              "      <td>-0.559883</td>\n",
              "      <td>-0.657557</td>\n",
              "      <td>-0.438250</td>\n",
              "      <td>-1.374276</td>\n",
              "      <td>0.043712</td>\n",
              "      <td>0.549215</td>\n",
              "      <td>3.000000</td>\n",
              "    </tr>\n",
              "    <tr>\n",
              "      <th>4</th>\n",
              "      <td>2.000000</td>\n",
              "      <td>0.456705</td>\n",
              "      <td>1.000000</td>\n",
              "      <td>0.000000</td>\n",
              "      <td>1.000000</td>\n",
              "      <td>0.0</td>\n",
              "      <td>0.000000</td>\n",
              "      <td>-0.657717</td>\n",
              "      <td>0.106489</td>\n",
              "      <td>3.530000</td>\n",
              "      <td>-0.507493</td>\n",
              "      <td>-0.886968</td>\n",
              "      <td>-1.370634</td>\n",
              "      <td>1.404745</td>\n",
              "      <td>-0.486123</td>\n",
              "      <td>-1.363396</td>\n",
              "      <td>3.000000</td>\n",
              "    </tr>\n",
              "    <tr>\n",
              "      <th>...</th>\n",
              "      <td>...</td>\n",
              "      <td>...</td>\n",
              "      <td>...</td>\n",
              "      <td>...</td>\n",
              "      <td>...</td>\n",
              "      <td>...</td>\n",
              "      <td>...</td>\n",
              "      <td>...</td>\n",
              "      <td>...</td>\n",
              "      <td>...</td>\n",
              "      <td>...</td>\n",
              "      <td>...</td>\n",
              "      <td>...</td>\n",
              "      <td>...</td>\n",
              "      <td>...</td>\n",
              "      <td>...</td>\n",
              "      <td>...</td>\n",
              "    </tr>\n",
              "    <tr>\n",
              "      <th>691</th>\n",
              "      <td>1.035495</td>\n",
              "      <td>0.456705</td>\n",
              "      <td>1.000000</td>\n",
              "      <td>0.000000</td>\n",
              "      <td>1.000000</td>\n",
              "      <td>0.0</td>\n",
              "      <td>0.000000</td>\n",
              "      <td>-0.845055</td>\n",
              "      <td>0.123918</td>\n",
              "      <td>3.761481</td>\n",
              "      <td>-0.853047</td>\n",
              "      <td>-0.193460</td>\n",
              "      <td>-1.185011</td>\n",
              "      <td>0.703853</td>\n",
              "      <td>1.088263</td>\n",
              "      <td>-0.820632</td>\n",
              "      <td>3.000000</td>\n",
              "    </tr>\n",
              "    <tr>\n",
              "      <th>692</th>\n",
              "      <td>1.229260</td>\n",
              "      <td>1.541075</td>\n",
              "      <td>0.770740</td>\n",
              "      <td>0.000000</td>\n",
              "      <td>0.000000</td>\n",
              "      <td>0.0</td>\n",
              "      <td>0.000000</td>\n",
              "      <td>1.010685</td>\n",
              "      <td>-0.904760</td>\n",
              "      <td>3.344434</td>\n",
              "      <td>0.807585</td>\n",
              "      <td>-1.088436</td>\n",
              "      <td>-0.307434</td>\n",
              "      <td>-0.472623</td>\n",
              "      <td>-0.534403</td>\n",
              "      <td>1.237784</td>\n",
              "      <td>3.229260</td>\n",
              "    </tr>\n",
              "    <tr>\n",
              "      <th>693</th>\n",
              "      <td>2.000000</td>\n",
              "      <td>-0.411912</td>\n",
              "      <td>1.000000</td>\n",
              "      <td>0.000000</td>\n",
              "      <td>1.000000</td>\n",
              "      <td>1.0</td>\n",
              "      <td>0.993734</td>\n",
              "      <td>0.850451</td>\n",
              "      <td>0.325728</td>\n",
              "      <td>3.571128</td>\n",
              "      <td>0.726014</td>\n",
              "      <td>-0.669996</td>\n",
              "      <td>0.173494</td>\n",
              "      <td>0.673620</td>\n",
              "      <td>0.487739</td>\n",
              "      <td>-0.804184</td>\n",
              "      <td>3.000000</td>\n",
              "    </tr>\n",
              "    <tr>\n",
              "      <th>694</th>\n",
              "      <td>2.000000</td>\n",
              "      <td>0.052108</td>\n",
              "      <td>1.000000</td>\n",
              "      <td>0.000000</td>\n",
              "      <td>1.000000</td>\n",
              "      <td>0.0</td>\n",
              "      <td>0.000000</td>\n",
              "      <td>-0.775798</td>\n",
              "      <td>-0.325609</td>\n",
              "      <td>3.651588</td>\n",
              "      <td>-0.672764</td>\n",
              "      <td>-0.549759</td>\n",
              "      <td>-1.113239</td>\n",
              "      <td>0.314389</td>\n",
              "      <td>-0.573927</td>\n",
              "      <td>-0.547847</td>\n",
              "      <td>3.000000</td>\n",
              "    </tr>\n",
              "    <tr>\n",
              "      <th>695</th>\n",
              "      <td>2.000000</td>\n",
              "      <td>0.605441</td>\n",
              "      <td>0.795797</td>\n",
              "      <td>0.204203</td>\n",
              "      <td>0.204203</td>\n",
              "      <td>0.0</td>\n",
              "      <td>0.000000</td>\n",
              "      <td>-1.059142</td>\n",
              "      <td>-0.928775</td>\n",
              "      <td>3.494564</td>\n",
              "      <td>-1.600337</td>\n",
              "      <td>-1.648167</td>\n",
              "      <td>-0.968381</td>\n",
              "      <td>0.037254</td>\n",
              "      <td>-0.181909</td>\n",
              "      <td>0.029785</td>\n",
              "      <td>3.204203</td>\n",
              "    </tr>\n",
              "  </tbody>\n",
              "</table>\n",
              "<p>696 rows × 17 columns</p>\n",
              "</div>\n",
              "      <button class=\"colab-df-convert\" onclick=\"convertToInteractive('df-7b571bfa-9ad4-4963-8401-de4f9785b3df')\"\n",
              "              title=\"Convert this dataframe to an interactive table.\"\n",
              "              style=\"display:none;\">\n",
              "        \n",
              "  <svg xmlns=\"http://www.w3.org/2000/svg\" height=\"24px\"viewBox=\"0 0 24 24\"\n",
              "       width=\"24px\">\n",
              "    <path d=\"M0 0h24v24H0V0z\" fill=\"none\"/>\n",
              "    <path d=\"M18.56 5.44l.94 2.06.94-2.06 2.06-.94-2.06-.94-.94-2.06-.94 2.06-2.06.94zm-11 1L8.5 8.5l.94-2.06 2.06-.94-2.06-.94L8.5 2.5l-.94 2.06-2.06.94zm10 10l.94 2.06.94-2.06 2.06-.94-2.06-.94-.94-2.06-.94 2.06-2.06.94z\"/><path d=\"M17.41 7.96l-1.37-1.37c-.4-.4-.92-.59-1.43-.59-.52 0-1.04.2-1.43.59L10.3 9.45l-7.72 7.72c-.78.78-.78 2.05 0 2.83L4 21.41c.39.39.9.59 1.41.59.51 0 1.02-.2 1.41-.59l7.78-7.78 2.81-2.81c.8-.78.8-2.07 0-2.86zM5.41 20L4 18.59l7.72-7.72 1.47 1.35L5.41 20z\"/>\n",
              "  </svg>\n",
              "      </button>\n",
              "      \n",
              "  <style>\n",
              "    .colab-df-container {\n",
              "      display:flex;\n",
              "      flex-wrap:wrap;\n",
              "      gap: 12px;\n",
              "    }\n",
              "\n",
              "    .colab-df-convert {\n",
              "      background-color: #E8F0FE;\n",
              "      border: none;\n",
              "      border-radius: 50%;\n",
              "      cursor: pointer;\n",
              "      display: none;\n",
              "      fill: #1967D2;\n",
              "      height: 32px;\n",
              "      padding: 0 0 0 0;\n",
              "      width: 32px;\n",
              "    }\n",
              "\n",
              "    .colab-df-convert:hover {\n",
              "      background-color: #E2EBFA;\n",
              "      box-shadow: 0px 1px 2px rgba(60, 64, 67, 0.3), 0px 1px 3px 1px rgba(60, 64, 67, 0.15);\n",
              "      fill: #174EA6;\n",
              "    }\n",
              "\n",
              "    [theme=dark] .colab-df-convert {\n",
              "      background-color: #3B4455;\n",
              "      fill: #D2E3FC;\n",
              "    }\n",
              "\n",
              "    [theme=dark] .colab-df-convert:hover {\n",
              "      background-color: #434B5C;\n",
              "      box-shadow: 0px 1px 3px 1px rgba(0, 0, 0, 0.15);\n",
              "      filter: drop-shadow(0px 1px 2px rgba(0, 0, 0, 0.3));\n",
              "      fill: #FFFFFF;\n",
              "    }\n",
              "  </style>\n",
              "\n",
              "      <script>\n",
              "        const buttonEl =\n",
              "          document.querySelector('#df-7b571bfa-9ad4-4963-8401-de4f9785b3df button.colab-df-convert');\n",
              "        buttonEl.style.display =\n",
              "          google.colab.kernel.accessAllowed ? 'block' : 'none';\n",
              "\n",
              "        async function convertToInteractive(key) {\n",
              "          const element = document.querySelector('#df-7b571bfa-9ad4-4963-8401-de4f9785b3df');\n",
              "          const dataTable =\n",
              "            await google.colab.kernel.invokeFunction('convertToInteractive',\n",
              "                                                     [key], {});\n",
              "          if (!dataTable) return;\n",
              "\n",
              "          const docLinkHtml = 'Like what you see? Visit the ' +\n",
              "            '<a target=\"_blank\" href=https://colab.research.google.com/notebooks/data_table.ipynb>data table notebook</a>'\n",
              "            + ' to learn more about interactive tables.';\n",
              "          element.innerHTML = '';\n",
              "          dataTable['output_type'] = 'display_data';\n",
              "          await google.colab.output.renderOutput(dataTable, element);\n",
              "          const docLink = document.createElement('div');\n",
              "          docLink.innerHTML = docLinkHtml;\n",
              "          element.appendChild(docLink);\n",
              "        }\n",
              "      </script>\n",
              "    </div>\n",
              "  </div>\n",
              "  "
            ]
          },
          "metadata": {},
          "execution_count": 341
        }
      ]
    },
    {
      "cell_type": "code",
      "source": [
        "model=[]\n",
        "\n",
        "model.append(('Random Forest',RandomForestClassifier()))"
      ],
      "metadata": {
        "id": "Wb2qj8n8iLnJ"
      },
      "execution_count": 349,
      "outputs": []
    },
    {
      "cell_type": "code",
      "source": [
        "xtrain,xvalid,ytrain,yvalid=train_test_split(data,y,test_size=0.2)\n",
        "\n",
        "from sklearn.model_selection import cross_val_score\n",
        "from sklearn.metrics import precision_score"
      ],
      "metadata": {
        "id": "Z8QgL35SjpKs"
      },
      "execution_count": 350,
      "outputs": []
    },
    {
      "cell_type": "code",
      "source": [
        "data.drop(['Drug','SGOT'],axis=1,inplace=True)"
      ],
      "metadata": {
        "id": "RP3IJVCApb7l"
      },
      "execution_count": 344,
      "outputs": []
    },
    {
      "cell_type": "code",
      "source": [
        "scores={}\n",
        "scores1={}\n",
        "for name,mod in model:\n",
        "  score=cross_val_score(mod,xtrain,ytrain,cv=7,scoring='accuracy')\n",
        "  scores[name]=np.mean(score)\n",
        "  mod.fit(xtrain,ytrain)\n",
        "  yhat=mod.predict(xvalid)\n",
        "  scores1[name]=precision_score(yvalid,yhat,average='micro')\n",
        "\n"
      ],
      "metadata": {
        "colab": {
          "base_uri": "https://localhost:8080/"
        },
        "id": "Tp6OzL1ymJdt",
        "outputId": "f581361f-3249-4bbb-9b50-b3b13aac788d"
      },
      "execution_count": 345,
      "outputs": [
        {
          "output_type": "stream",
          "name": "stderr",
          "text": [
            "/usr/local/lib/python3.7/dist-packages/sklearn/linear_model/_logistic.py:818: ConvergenceWarning: lbfgs failed to converge (status=1):\n",
            "STOP: TOTAL NO. of ITERATIONS REACHED LIMIT.\n",
            "\n",
            "Increase the number of iterations (max_iter) or scale the data as shown in:\n",
            "    https://scikit-learn.org/stable/modules/preprocessing.html\n",
            "Please also refer to the documentation for alternative solver options:\n",
            "    https://scikit-learn.org/stable/modules/linear_model.html#logistic-regression\n",
            "  extra_warning_msg=_LOGISTIC_SOLVER_CONVERGENCE_MSG,\n",
            "/usr/local/lib/python3.7/dist-packages/sklearn/linear_model/_logistic.py:818: ConvergenceWarning: lbfgs failed to converge (status=1):\n",
            "STOP: TOTAL NO. of ITERATIONS REACHED LIMIT.\n",
            "\n",
            "Increase the number of iterations (max_iter) or scale the data as shown in:\n",
            "    https://scikit-learn.org/stable/modules/preprocessing.html\n",
            "Please also refer to the documentation for alternative solver options:\n",
            "    https://scikit-learn.org/stable/modules/linear_model.html#logistic-regression\n",
            "  extra_warning_msg=_LOGISTIC_SOLVER_CONVERGENCE_MSG,\n",
            "/usr/local/lib/python3.7/dist-packages/sklearn/linear_model/_logistic.py:818: ConvergenceWarning: lbfgs failed to converge (status=1):\n",
            "STOP: TOTAL NO. of ITERATIONS REACHED LIMIT.\n",
            "\n",
            "Increase the number of iterations (max_iter) or scale the data as shown in:\n",
            "    https://scikit-learn.org/stable/modules/preprocessing.html\n",
            "Please also refer to the documentation for alternative solver options:\n",
            "    https://scikit-learn.org/stable/modules/linear_model.html#logistic-regression\n",
            "  extra_warning_msg=_LOGISTIC_SOLVER_CONVERGENCE_MSG,\n",
            "/usr/local/lib/python3.7/dist-packages/sklearn/linear_model/_logistic.py:818: ConvergenceWarning: lbfgs failed to converge (status=1):\n",
            "STOP: TOTAL NO. of ITERATIONS REACHED LIMIT.\n",
            "\n",
            "Increase the number of iterations (max_iter) or scale the data as shown in:\n",
            "    https://scikit-learn.org/stable/modules/preprocessing.html\n",
            "Please also refer to the documentation for alternative solver options:\n",
            "    https://scikit-learn.org/stable/modules/linear_model.html#logistic-regression\n",
            "  extra_warning_msg=_LOGISTIC_SOLVER_CONVERGENCE_MSG,\n",
            "/usr/local/lib/python3.7/dist-packages/sklearn/linear_model/_logistic.py:818: ConvergenceWarning: lbfgs failed to converge (status=1):\n",
            "STOP: TOTAL NO. of ITERATIONS REACHED LIMIT.\n",
            "\n",
            "Increase the number of iterations (max_iter) or scale the data as shown in:\n",
            "    https://scikit-learn.org/stable/modules/preprocessing.html\n",
            "Please also refer to the documentation for alternative solver options:\n",
            "    https://scikit-learn.org/stable/modules/linear_model.html#logistic-regression\n",
            "  extra_warning_msg=_LOGISTIC_SOLVER_CONVERGENCE_MSG,\n",
            "/usr/local/lib/python3.7/dist-packages/sklearn/linear_model/_logistic.py:818: ConvergenceWarning: lbfgs failed to converge (status=1):\n",
            "STOP: TOTAL NO. of ITERATIONS REACHED LIMIT.\n",
            "\n",
            "Increase the number of iterations (max_iter) or scale the data as shown in:\n",
            "    https://scikit-learn.org/stable/modules/preprocessing.html\n",
            "Please also refer to the documentation for alternative solver options:\n",
            "    https://scikit-learn.org/stable/modules/linear_model.html#logistic-regression\n",
            "  extra_warning_msg=_LOGISTIC_SOLVER_CONVERGENCE_MSG,\n",
            "/usr/local/lib/python3.7/dist-packages/sklearn/linear_model/_logistic.py:818: ConvergenceWarning: lbfgs failed to converge (status=1):\n",
            "STOP: TOTAL NO. of ITERATIONS REACHED LIMIT.\n",
            "\n",
            "Increase the number of iterations (max_iter) or scale the data as shown in:\n",
            "    https://scikit-learn.org/stable/modules/preprocessing.html\n",
            "Please also refer to the documentation for alternative solver options:\n",
            "    https://scikit-learn.org/stable/modules/linear_model.html#logistic-regression\n",
            "  extra_warning_msg=_LOGISTIC_SOLVER_CONVERGENCE_MSG,\n",
            "/usr/local/lib/python3.7/dist-packages/sklearn/linear_model/_logistic.py:818: ConvergenceWarning: lbfgs failed to converge (status=1):\n",
            "STOP: TOTAL NO. of ITERATIONS REACHED LIMIT.\n",
            "\n",
            "Increase the number of iterations (max_iter) or scale the data as shown in:\n",
            "    https://scikit-learn.org/stable/modules/preprocessing.html\n",
            "Please also refer to the documentation for alternative solver options:\n",
            "    https://scikit-learn.org/stable/modules/linear_model.html#logistic-regression\n",
            "  extra_warning_msg=_LOGISTIC_SOLVER_CONVERGENCE_MSG,\n"
          ]
        }
      ]
    },
    {
      "cell_type": "code",
      "source": [
        "import joblib \n",
        "\n",
        "joblib.dump(model,'lungs.pkl')"
      ],
      "metadata": {
        "colab": {
          "base_uri": "https://localhost:8080/"
        },
        "id": "K4dYIRMWnZxq",
        "outputId": "b94db374-a42e-4a38-ccd6-72df136953a6"
      },
      "execution_count": 351,
      "outputs": [
        {
          "output_type": "execute_result",
          "data": {
            "text/plain": [
              "['lungs.pkl']"
            ]
          },
          "metadata": {},
          "execution_count": 351
        }
      ]
    },
    {
      "cell_type": "code",
      "source": [
        "9"
      ],
      "metadata": {
        "colab": {
          "base_uri": "https://localhost:8080/"
        },
        "id": "gErInZ3coNLx",
        "outputId": "a05c5b94-a746-47ce-9450-d1e50bc3c8ae"
      },
      "execution_count": 348,
      "outputs": [
        {
          "output_type": "execute_result",
          "data": {
            "text/plain": [
              "9"
            ]
          },
          "metadata": {},
          "execution_count": 348
        }
      ]
    }
  ]
}